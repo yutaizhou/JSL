{
 "cells": [
  {
   "cell_type": "markdown",
   "metadata": {
    "colab_type": "text",
    "id": "view-in-github"
   },
   "source": [
    "<a href=\"https://colab.research.google.com/github/probml/JSL/blob/main/jsl/demos/fixed_lag_smoother.ipynb\" target=\"_parent\"><img src=\"https://colab.research.google.com/assets/colab-badge.svg\" alt=\"Open In Colab\"/></a>"
   ]
  },
  {
   "cell_type": "markdown",
   "metadata": {
    "id": "YNVwtTv8P0bZ"
   },
   "source": [
    "# Fixed Lag Smoother\n",
    "\n",
    "This notebook achieves the following: \n",
    "\n",
    "1. implements JAXified versions of fixed lag smoother;\n",
    "\n",
    "2. demonstrates the correctness of the implementations by comparison of their full-lag smoothed posteriors with the results of JSL's implementation of `hmm_forwards_backwards_jax`;\n",
    "\n",
    "3. demonstrates the improved \"online\" performance of a version that uses a vectorized approach to compute the $\\beta$ values across its sliding window against the one that iteratively smooths backwards inside the window, as implemented in Kevin Murphy's HMM Toolbox for Matlab. \n",
    "\n",
    "The JAX State-Space Models Library (JSL) is available at:\n",
    "https://github.com/probml/JSL\n",
    "\n",
    "Kevin Murphy's Hidden Markov Model (HMM) Toolbox for Matlab is available at:\n",
    "https://www.cs.ubc.ca/~murphyk/Software/HMM/hmm.html\n",
    "\n",
    "Author: Peter G. Chang ([@peterchang0414](https://github.com/peterchang0414))"
   ]
  },
  {
   "cell_type": "markdown",
   "metadata": {
    "id": "Fob7r0qaR1Nk"
   },
   "source": [
    "# 0. Imports"
   ]
  },
  {
   "cell_type": "code",
   "execution_count": null,
   "metadata": {
    "colab": {
     "base_uri": "https://localhost:8080/"
    },
    "id": "vR05NbgRYED1",
    "outputId": "bac3616b-b00b-4020-dc46-db858eacfacf"
   },
   "outputs": [
    {
     "name": "stdout",
     "output_type": "stream",
     "text": [
      "\u001b[?25l\r\u001b[K     |█▉                              | 10 kB 30.0 MB/s eta 0:00:01\r\u001b[K     |███▋                            | 20 kB 32.1 MB/s eta 0:00:01\r\u001b[K     |█████▍                          | 30 kB 36.4 MB/s eta 0:00:01\r\u001b[K     |███████▏                        | 40 kB 37.7 MB/s eta 0:00:01\r\u001b[K     |█████████                       | 51 kB 27.0 MB/s eta 0:00:01\r\u001b[K     |██████████▊                     | 61 kB 30.1 MB/s eta 0:00:01\r\u001b[K     |████████████▌                   | 71 kB 28.4 MB/s eta 0:00:01\r\u001b[K     |██████████████▎                 | 81 kB 28.6 MB/s eta 0:00:01\r\u001b[K     |████████████████                | 92 kB 30.6 MB/s eta 0:00:01\r\u001b[K     |█████████████████▉              | 102 kB 29.2 MB/s eta 0:00:01\r\u001b[K     |███████████████████▋            | 112 kB 29.2 MB/s eta 0:00:01\r\u001b[K     |█████████████████████▍          | 122 kB 29.2 MB/s eta 0:00:01\r\u001b[K     |███████████████████████▏        | 133 kB 29.2 MB/s eta 0:00:01\r\u001b[K     |█████████████████████████       | 143 kB 29.2 MB/s eta 0:00:01\r\u001b[K     |██████████████████████████▊     | 153 kB 29.2 MB/s eta 0:00:01\r\u001b[K     |████████████████████████████▌   | 163 kB 29.2 MB/s eta 0:00:01\r\u001b[K     |██████████████████████████████▎ | 174 kB 29.2 MB/s eta 0:00:01\r\u001b[K     |████████████████████████████████| 184 kB 29.2 MB/s \n",
      "\u001b[K     |████████████████████████████████| 140 kB 56.8 MB/s \n",
      "\u001b[K     |████████████████████████████████| 72 kB 780 kB/s \n",
      "\u001b[?25h"
     ]
    }
   ],
   "source": [
    "!pip install -q flax"
   ]
  },
  {
   "cell_type": "code",
   "execution_count": null,
   "metadata": {
    "colab": {
     "base_uri": "https://localhost:8080/"
    },
    "id": "N4P2DsduVbW5",
    "outputId": "77d339b4-f0d2-4aa9-a903-36efcefedd1c"
   },
   "outputs": [
    {
     "name": "stdout",
     "output_type": "stream",
     "text": [
      "Cloning into 'JSL'...\n",
      "remote: Enumerating objects: 1781, done.\u001b[K\n",
      "remote: Counting objects: 100% (1726/1726), done.\u001b[K\n",
      "remote: Compressing objects: 100% (1138/1138), done.\u001b[K\n",
      "remote: Total 1781 (delta 1126), reused 1124 (delta 567), pack-reused 55\u001b[K\n",
      "Receiving objects: 100% (1781/1781), 5.78 MiB | 29.44 MiB/s, done.\n",
      "Resolving deltas: 100% (1145/1145), done.\n"
     ]
    }
   ],
   "source": [
    "!git clone https://github.com/probml/JSL.git"
   ]
  },
  {
   "cell_type": "code",
   "execution_count": null,
   "metadata": {
    "id": "2cHM_Qq4VqCh"
   },
   "outputs": [],
   "source": [
    "import sys\n",
    "\n",
    "sys.path.insert(0, \"/content/JSL\")\n",
    "from jsl.hmm.hmm_lib import HMMJax, hmm_forwards_backwards_jax, normalize"
   ]
  },
  {
   "cell_type": "code",
   "execution_count": null,
   "metadata": {
    "id": "PNu3vU_vXxky"
   },
   "outputs": [],
   "source": [
    "from functools import partial\n",
    "\n",
    "import jax.numpy as jnp\n",
    "import matplotlib.pyplot as plt\n",
    "from jax import jit, vmap\n",
    "from jax.random import PRNGKey, choice, split, uniform"
   ]
  },
  {
   "cell_type": "markdown",
   "metadata": {
    "id": "JwQLLuagdSvu"
   },
   "source": [
    "First, a quick aside. The current JSL implementation of `normalize` does not work as expected when applied to a rectangular matrix with `axis=1`, as demonstrated by the error raised below:"
   ]
  },
  {
   "cell_type": "code",
   "execution_count": null,
   "metadata": {
    "colab": {
     "base_uri": "https://localhost:8080/"
    },
    "id": "U2BmOvwfdUql",
    "outputId": "c722afce-03e4-4c51-89bf-75c6c1ce1ccc"
   },
   "outputs": [
    {
     "name": "stderr",
     "output_type": "stream",
     "text": [
      "WARNING:absl:No GPU/TPU found, falling back to CPU. (Set TF_CPP_MIN_LOG_LEVEL=0 and rerun for more info.)\n"
     ]
    }
   ],
   "source": [
    "A = jnp.array([[1, 2], [2, 3], [3, 4]])\n",
    "\n",
    "_ = normalize(A, axis=0)  # Works as expected\n",
    "# _ = normalize(A, axis=1) # Raises \"Incompatible shapes for broadcasting error\""
   ]
  },
  {
   "cell_type": "markdown",
   "metadata": {
    "id": "KKswVJtgd8AS"
   },
   "source": [
    "The following implementation fixes the issue by adding `keepdims=True`."
   ]
  },
  {
   "cell_type": "code",
   "execution_count": null,
   "metadata": {
    "id": "vn0UidP4eGNx"
   },
   "outputs": [],
   "source": [
    "def normalize(u, axis=0, eps=1e-15):\n",
    "    u = jnp.where(u == 0, 0, jnp.where(u < eps, eps, u))\n",
    "    c = u.sum(axis=axis, keepdims=True)\n",
    "    c = jnp.where(c == 0, 1, c)\n",
    "    return u / c, c\n",
    "\n",
    "\n",
    "_ = normalize(A, axis=1)  # Works as expected"
   ]
  },
  {
   "cell_type": "markdown",
   "metadata": {
    "id": "jbmIOFafYk7b"
   },
   "source": [
    "# 1. Fixed Lag Smoother - Two Implementations"
   ]
  },
  {
   "cell_type": "code",
   "execution_count": null,
   "metadata": {
    "id": "QDJ7YcaZGSTI"
   },
   "outputs": [],
   "source": [
    "# Naive (un-vectorized) version\n",
    "@partial(jit, static_argnums=(1))\n",
    "def fixed_lag_smoother_iterative(\n",
    "    params, win_len, alpha_win, obs_seq_win, obs, act=None\n",
    "):\n",
    "    \"\"\"\n",
    "    Computes the smoothed posterior for each state in the lagged window of\n",
    "    fixed size, win_len.\n",
    "\n",
    "    Parameters\n",
    "    ----------\n",
    "    params      : HMMJax\n",
    "        Hidden Markov Model (with action-dependent transition)\n",
    "\n",
    "    win_len     : int\n",
    "        Desired window length (>= 2)\n",
    "\n",
    "    alpha_win   : array\n",
    "        Alpha values for the most recent win_len steps, excluding current step\n",
    "\n",
    "    obs_seq_win : array\n",
    "        Observations for the most recent win_len steps, excluding current step\n",
    "\n",
    "    obs         : int\n",
    "        New observation for the current step\n",
    "\n",
    "    act         : array\n",
    "        (optional) Actions for the most recent win_len steps, including current step\n",
    "\n",
    "    Returns\n",
    "    -------\n",
    "    * array(win_len, n_states)\n",
    "        Updated alpha values\n",
    "\n",
    "    * array(win_len)\n",
    "        Updated observations for the past d steps\n",
    "\n",
    "    * array(win_len, n_states)\n",
    "        Smoothed posteriors for the past d steps\n",
    "    \"\"\"\n",
    "    if len(alpha_win.shape) < 2:\n",
    "        alpha_win = jnp.expand_dims(alpha_win, axis=0)\n",
    "    curr_len = alpha_win.shape[0]\n",
    "    win_len = min(win_len, curr_len + 1)\n",
    "    assert win_len >= 2, \"Must keep a window of length at least 2.\"\n",
    "\n",
    "    trans_mat, obs_mat = params.trans_mat, params.obs_mat\n",
    "    n_states, n_obs = obs_mat.shape\n",
    "\n",
    "    # If trans_mat is independent of action, adjust shape\n",
    "    if len(trans_mat.shape) < 3:\n",
    "        trans_mat = jnp.expand_dims(trans_mat, axis=0)\n",
    "        act = None\n",
    "    if act is None:\n",
    "        act = jnp.zeros(shape=(curr_len + 1,), dtype=jnp.int8)\n",
    "\n",
    "    # Shift window forward by 1\n",
    "    if curr_len == win_len:\n",
    "        alpha_win = alpha_win[1:]\n",
    "        obs_seq_win = obs_seq_win[1:]\n",
    "    new_alpha, _ = normalize(\n",
    "        obs_mat[:, obs] * (alpha_win[-1][:, None] * trans_mat[act[-1]]).sum(axis=0)\n",
    "    )\n",
    "    alpha_win = jnp.concatenate((alpha_win, new_alpha[None, :]), axis=0)\n",
    "    obs_seq_win = jnp.append(obs_seq_win, obs)\n",
    "\n",
    "    # Smooth backwards inside the window\n",
    "    beta_win = jnp.ones(shape=(win_len, n_states))\n",
    "    gamma_win = jnp.array(alpha_win)\n",
    "    for t in range(win_len - 2, -1, -1):\n",
    "        new_beta, _ = normalize(\n",
    "            (\n",
    "                beta_win[t + 1, :] * obs_mat[:, obs_seq_win[t + 1]] * trans_mat[act[t]]\n",
    "            ).sum(axis=1)\n",
    "        )\n",
    "        beta_win = beta_win.at[t, :].set(new_beta)\n",
    "\n",
    "        new_gamma, _ = normalize(alpha_win[t, :] * beta_win[t, :])\n",
    "        gamma_win = gamma_win.at[t, :].set(new_gamma)\n",
    "    return alpha_win, obs_seq_win, beta_win, gamma_win"
   ]
  },
  {
   "cell_type": "code",
   "execution_count": null,
   "metadata": {
    "id": "6YFXqHP00UmQ"
   },
   "outputs": [],
   "source": [
    "# Vectorized version\n",
    "@partial(jit, static_argnums=(1))\n",
    "def fixed_lag_smoother_vectorized(\n",
    "    params, win_len, alpha_win, bmatrix_win, obs, act=None\n",
    "):\n",
    "    \"\"\"\n",
    "    Computes the smoothed posterior for each state in the lagged window of\n",
    "    fixed size, win_len.\n",
    "\n",
    "    Parameters\n",
    "    ----------\n",
    "    params      : HMMJax\n",
    "        Hidden Markov Model (with action-dependent transition)\n",
    "\n",
    "    win_len     : int\n",
    "        Desired window length (>= 2)\n",
    "\n",
    "    alpha_win   : array\n",
    "        Alpha values for the most recent win_len steps, excluding current step\n",
    "\n",
    "    bmatrix_win : array\n",
    "        Beta transformations for the most recent win_len steps, excluding current step\n",
    "\n",
    "    obs         : int\n",
    "        New observation for the current step\n",
    "\n",
    "    act         : array\n",
    "        (optional) Actions for the most recent win_len steps, including current step\n",
    "\n",
    "    Returns\n",
    "    -------\n",
    "    * array(win_len, n_states)\n",
    "        Updated alpha values\n",
    "\n",
    "    * array(win_len, n_states)\n",
    "        Updated beta transformations\n",
    "\n",
    "    * array(win_len, n_states)\n",
    "        Smoothed posteriors for the past d steps\n",
    "    \"\"\"\n",
    "    if len(alpha_win.shape) < 2:\n",
    "        alpha_win = jnp.expand_dims(alpha_win, axis=0)\n",
    "    curr_len = alpha_win.shape[0]\n",
    "    win_len = min(win_len, curr_len + 1)\n",
    "    assert win_len >= 2, \"Must keep a window of length at least 2.\"\n",
    "\n",
    "    trans_mat, obs_mat = params.trans_mat, params.obs_mat\n",
    "    n_states, n_obs = obs_mat.shape\n",
    "\n",
    "    # If trans_mat is independent of action, adjust shape\n",
    "    if len(trans_mat.shape) < 3:\n",
    "        trans_mat = jnp.expand_dims(trans_mat, axis=0)\n",
    "        act = None\n",
    "    if act is None:\n",
    "        act = jnp.zeros(shape=(curr_len + 1,), dtype=jnp.int8)\n",
    "\n",
    "    # Shift window forward by 1\n",
    "    if curr_len == win_len:\n",
    "        alpha_win = alpha_win[1:]\n",
    "        bmatrix_win = bmatrix_win[1:]\n",
    "\n",
    "    # Perform one forward operation\n",
    "    new_alpha, _ = normalize(\n",
    "        obs_mat[:, obs] * (alpha_win[-1][:, None] * trans_mat[act[-1]]).sum(axis=0)\n",
    "    )\n",
    "    alpha_win = jnp.concatenate((alpha_win, new_alpha[None, :]))\n",
    "\n",
    "    # Smooth inside the window in parallel\n",
    "    def update_bmatrix(bmatrix):\n",
    "        return (bmatrix @ trans_mat[act[-2]]) * obs_mat[:, obs]\n",
    "\n",
    "    bmatrix_win = vmap(update_bmatrix)(bmatrix_win)\n",
    "    bmatrix_win = jnp.concatenate((bmatrix_win, jnp.eye(n_states)[None, :]))\n",
    "\n",
    "    # Compute beta values by row-summing bmatrices\n",
    "    def get_beta(bmatrix):\n",
    "        return normalize(bmatrix.sum(axis=1))[0]\n",
    "\n",
    "    beta_win = vmap(get_beta)(bmatrix_win)\n",
    "\n",
    "    # Compute posterior values\n",
    "    gamma_win, _ = normalize(alpha_win * beta_win, axis=1)\n",
    "    return alpha_win, bmatrix_win, gamma_win"
   ]
  },
  {
   "cell_type": "markdown",
   "metadata": {
    "id": "U_eoeO7IgQll"
   },
   "source": [
    "# 2. Helper Functions"
   ]
  },
  {
   "cell_type": "markdown",
   "metadata": {
    "id": "Muz8w0oYgSvd"
   },
   "source": [
    "We define some helper functions to run the two implementations on any given dataset."
   ]
  },
  {
   "cell_type": "code",
   "execution_count": null,
   "metadata": {
    "id": "RH_qnaLtgZX5"
   },
   "outputs": [],
   "source": [
    "def get_fls_result_iterative(params, data, win_len, act=None):\n",
    "    assert data.size > 2, \"Complete observation set must be of size at least 2\"\n",
    "    prior, obs_mat = params.init_dist, params.obs_mat\n",
    "    alpha, _ = normalize(prior * obs_mat[:, data[0]])\n",
    "    obs_seq = jnp.array([data[0]])\n",
    "    for obs in data[1:]:\n",
    "        alpha, obs_seq, beta, gamma = fixed_lag_smoother_iterative(\n",
    "            params, win_len, alpha, obs_seq, obs\n",
    "        )\n",
    "    return alpha, beta, gamma\n",
    "\n",
    "\n",
    "def get_fls_result_vectorized(params, data, win_len, act=None):\n",
    "    assert data.size > 2, \"Complete observation set must be of size at least 2\"\n",
    "    prior, obs_mat = params.init_dist, params.obs_mat\n",
    "    n_states = obs_mat.shape[0]\n",
    "    alpha, _ = normalize(prior * obs_mat[:, data[0]])\n",
    "    bmatrix = jnp.eye(n_states)[None, :]\n",
    "    for obs in data[1:]:\n",
    "        alpha, bmatrix, gamma = fixed_lag_smoother_vectorized(\n",
    "            params, win_len, alpha, bmatrix, obs\n",
    "        )\n",
    "    return alpha, gamma"
   ]
  },
  {
   "cell_type": "markdown",
   "metadata": {
    "id": "tEg7cAk0aNAH"
   },
   "source": [
    "# 3. Correctness of Implementation"
   ]
  },
  {
   "cell_type": "markdown",
   "metadata": {
    "id": "WXfW503oaXXW"
   },
   "source": [
    "First, we randomly generate a Hidden Markov Model with state space of size 3, observation space of size 5.\n"
   ]
  },
  {
   "cell_type": "code",
   "execution_count": null,
   "metadata": {
    "id": "36-3uX2_a3sC"
   },
   "outputs": [],
   "source": [
    "num_states = 3\n",
    "num_obs = 5\n",
    "key = PRNGKey(0)\n",
    "\n",
    "# Generate transition matrix\n",
    "trans_mat = uniform(key, shape=(num_states, num_states))\n",
    "trans_mat, _ = normalize(trans_mat, axis=1)\n",
    "key, _ = split(key)\n",
    "\n",
    "# Generate observation likelihood matrix\n",
    "obs_mat = uniform(key, shape=(num_states, num_obs))\n",
    "obs_mat, _ = normalize(obs_mat, axis=1)\n",
    "key, _ = split(key)\n",
    "\n",
    "# Generate uniform random prior\n",
    "prior, _ = normalize(jnp.ones(num_states))\n",
    "\n",
    "# Generate HMM\n",
    "hmm = HMMJax(trans_mat=trans_mat, obs_mat=obs_mat, init_dist=prior)"
   ]
  },
  {
   "cell_type": "markdown",
   "metadata": {
    "id": "Fsi7mh1Ab7E3"
   },
   "source": [
    "Then, we randomly generate an observed dataset of size 20."
   ]
  },
  {
   "cell_type": "code",
   "execution_count": null,
   "metadata": {
    "id": "hDqPeGlLcLOS"
   },
   "outputs": [],
   "source": [
    "num_timesteps = 20\n",
    "\n",
    "# Generate random data\n",
    "data = choice(key, num_obs, shape=(num_timesteps,))"
   ]
  },
  {
   "cell_type": "markdown",
   "metadata": {
    "id": "Ax8eZ9SEe9sM"
   },
   "source": [
    "Now, we test correctness of the two implementations by comparison of their full-lag results with JSL's `hmm_forwards_backwards_jax` implementation."
   ]
  },
  {
   "cell_type": "code",
   "execution_count": null,
   "metadata": {
    "id": "RjrgZNuQe0DB"
   },
   "outputs": [],
   "source": [
    "_, _, gamma_fb, _ = hmm_forwards_backwards_jax(hmm, data)\n",
    "*_, gamma_it = get_fls_result_iterative(hmm, data, win_len=data.size)\n",
    "*_, gamma_vec = get_fls_result_vectorized(hmm, data, win_len=data.size)"
   ]
  },
  {
   "cell_type": "code",
   "execution_count": null,
   "metadata": {
    "id": "EWNY_tBjfpeM"
   },
   "outputs": [],
   "source": [
    "assert jnp.allclose(gamma_fb, gamma_it) and jnp.allclose(gamma_fb, gamma_vec)"
   ]
  },
  {
   "cell_type": "markdown",
   "metadata": {
    "id": "S2ZVMRwEkQML"
   },
   "source": [
    "# 4. Timed Experiments"
   ]
  },
  {
   "cell_type": "markdown",
   "metadata": {
    "id": "hhWfZkxckwFL"
   },
   "source": [
    "We compare the performance of the two implementations by timing them against different sizes of windows. We reuse the HMM from the previous section. We use total observation set of size 1000.\n"
   ]
  },
  {
   "cell_type": "code",
   "execution_count": null,
   "metadata": {
    "colab": {
     "base_uri": "https://localhost:8080/"
    },
    "id": "sx0V530-lGYg",
    "outputId": "a4fdae5d-ff21-4d83-923a-0cdb87f5b19b"
   },
   "outputs": [
    {
     "name": "stdout",
     "output_type": "stream",
     "text": [
      "window of size  2\n",
      "The slowest run took 51.57 times longer than the fastest. This could mean that an intermediate result is being cached.\n",
      "1 loop, best of 5: 21.6 ms per loop\n",
      "The slowest run took 20.09 times longer than the fastest. This could mean that an intermediate result is being cached.\n",
      "1 loop, best of 5: 20.6 ms per loop\n",
      "window of size  10\n",
      "The slowest run took 243.44 times longer than the fastest. This could mean that an intermediate result is being cached.\n",
      "1 loop, best of 5: 26.6 ms per loop\n",
      "The slowest run took 94.51 times longer than the fastest. This could mean that an intermediate result is being cached.\n",
      "1 loop, best of 5: 21.3 ms per loop\n",
      "window of size  20\n",
      "The slowest run took 632.30 times longer than the fastest. This could mean that an intermediate result is being cached.\n",
      "1 loop, best of 5: 35.5 ms per loop\n",
      "The slowest run took 179.90 times longer than the fastest. This could mean that an intermediate result is being cached.\n",
      "1 loop, best of 5: 22.2 ms per loop\n",
      "window of size  30\n",
      "The slowest run took 1196.74 times longer than the fastest. This could mean that an intermediate result is being cached.\n",
      "1 loop, best of 5: 42.2 ms per loop\n",
      "The slowest run took 253.59 times longer than the fastest. This could mean that an intermediate result is being cached.\n",
      "1 loop, best of 5: 23.3 ms per loop\n",
      "window of size  40\n",
      "The slowest run took 1948.70 times longer than the fastest. This could mean that an intermediate result is being cached.\n",
      "1 loop, best of 5: 46.7 ms per loop\n",
      "The slowest run took 334.61 times longer than the fastest. This could mean that an intermediate result is being cached.\n",
      "1 loop, best of 5: 23.7 ms per loop\n",
      "window of size  50\n",
      "The slowest run took 2801.64 times longer than the fastest. This could mean that an intermediate result is being cached.\n",
      "1 loop, best of 5: 53.1 ms per loop\n",
      "The slowest run took 406.91 times longer than the fastest. This could mean that an intermediate result is being cached.\n",
      "1 loop, best of 5: 24.7 ms per loop\n",
      "window of size  60\n",
      "The slowest run took 3677.37 times longer than the fastest. This could mean that an intermediate result is being cached.\n",
      "1 loop, best of 5: 58.8 ms per loop\n",
      "The slowest run took 454.20 times longer than the fastest. This could mean that an intermediate result is being cached.\n",
      "1 loop, best of 5: 26.2 ms per loop\n",
      "window of size  70\n",
      "The slowest run took 4519.96 times longer than the fastest. This could mean that an intermediate result is being cached.\n",
      "1 loop, best of 5: 72.9 ms per loop\n",
      "The slowest run took 611.26 times longer than the fastest. This could mean that an intermediate result is being cached.\n",
      "1 loop, best of 5: 25.9 ms per loop\n",
      "window of size  80\n",
      "The slowest run took 5452.36 times longer than the fastest. This could mean that an intermediate result is being cached.\n",
      "1 loop, best of 5: 71.8 ms per loop\n",
      "The slowest run took 618.85 times longer than the fastest. This could mean that an intermediate result is being cached.\n",
      "1 loop, best of 5: 26.4 ms per loop\n"
     ]
    }
   ],
   "source": [
    "# Plot timed results against different window sizes\n",
    "import numpy as np\n",
    "\n",
    "key = PRNGKey(0)\n",
    "num_timestep = 1000\n",
    "window_grid = np.insert(np.arange(10, 81, 10), 0, 2)\n",
    "data = choice(key, num_obs, shape=(num_timestep,))\n",
    "\n",
    "it_times, vec_times = [], []\n",
    "for window_size in window_grid:\n",
    "    print(\"window of size \", window_size)\n",
    "    it_time = %timeit -o get_fls_result_iterative(hmm, data, window_size)\n",
    "    vec_time = %timeit -o get_fls_result_vectorized(hmm, data, window_size)\n",
    "    it_times.append(it_time.best)\n",
    "    vec_times.append(vec_time.best)"
   ]
  },
  {
   "cell_type": "code",
   "execution_count": null,
   "metadata": {
    "colab": {
     "base_uri": "https://localhost:8080/",
     "height": 279
    },
    "id": "QKMz5jOqvssT",
    "outputId": "d4338dec-28d8-467a-bd66-b77e1e29ed77"
   },
   "outputs": [
    {
     "data": {
      "image/png": "[encoded data removed]",
      "text/plain": [
       "<Figure size 432x288 with 1 Axes>"
      ]
     },
     "metadata": {
      "needs_background": "light"
     },
     "output_type": "display_data"
    }
   ],
   "source": [
    "# Plot the result\n",
    "plt.figure()\n",
    "plt.plot(window_grid, it_times, label=\"iterative\")\n",
    "plt.plot(window_grid, vec_times, label=\"vectorized\")\n",
    "plt.xlabel(\"window length\")\n",
    "plt.ylabel(\"best time in s\")\n",
    "plt.legend()\n",
    "plt.show()"
   ]
  },
  {
   "cell_type": "markdown",
   "metadata": {
    "id": "dcvmVu_OGCib"
   },
   "source": [
    "Note that the speedup is even more pronounced if we remove jit from the equation by running each code once."
   ]
  },
  {
   "cell_type": "code",
   "execution_count": null,
   "metadata": {
    "colab": {
     "base_uri": "https://localhost:8080/"
    },
    "id": "XP07QTs1Fd8z",
    "outputId": "0f265cdf-73ca-4ae6-c9ff-88360e43f830"
   },
   "outputs": [
    {
     "name": "stdout",
     "output_type": "stream",
     "text": [
      "window of size  3\n",
      "iterative took  1.3882253170013428  seconds.\n",
      "vectorized took  0.579291820526123  seconds.\n",
      "window of size  13\n",
      "iterative took  9.687594413757324  seconds.\n",
      "vectorized took  3.332158327102661  seconds.\n",
      "window of size  23\n",
      "iterative took  29.268041372299194  seconds.\n",
      "vectorized took  4.641597032546997  seconds.\n",
      "window of size  33\n",
      "iterative took  63.42604160308838  seconds.\n",
      "vectorized took  6.314378976821899  seconds.\n",
      "window of size  43\n",
      "iterative took  106.45702171325684  seconds.\n",
      "vectorized took  8.493563413619995  seconds.\n",
      "window of size  53\n",
      "iterative took  162.71045875549316  seconds.\n",
      "vectorized took  9.996003150939941  seconds.\n",
      "window of size  63\n",
      "iterative took  232.62644505500793  seconds.\n",
      "vectorized took  11.84960126876831  seconds.\n",
      "window of size  73\n",
      "iterative took  323.3961088657379  seconds.\n",
      "vectorized took  14.298079490661621  seconds.\n",
      "window of size  83\n",
      "iterative took  437.9278955459595  seconds.\n",
      "vectorized took  16.133213758468628  seconds.\n",
      "window of size  93\n",
      "iterative took  574.5705089569092  seconds.\n",
      "vectorized took  17.906277418136597  seconds.\n"
     ]
    }
   ],
   "source": [
    "# Plot timed results against different window sizes - don't use cache\n",
    "import time\n",
    "\n",
    "import numpy as np\n",
    "\n",
    "key = PRNGKey(0)\n",
    "num_timestep = 1000\n",
    "window_grid = np.arange(3, 94, 10)\n",
    "data = choice(key, num_obs, shape=(num_timestep,))\n",
    "\n",
    "it_times, vec_times = [], []\n",
    "for window_size in window_grid:\n",
    "    print(\"window of size \", window_size)\n",
    "    start = time.time()\n",
    "    _ = get_fls_result_iterative(hmm, data, window_size)\n",
    "    it_time = time.time() - start\n",
    "    it_times.append(it_time)\n",
    "    print(\"iterative took \", it_time, \" seconds.\")\n",
    "    start = time.time()\n",
    "    _ = get_fls_result_vectorized(hmm, data, window_size)\n",
    "    vec_time = time.time() - start\n",
    "    vec_times.append(vec_time)\n",
    "    print(\"vectorized took \", vec_time, \" seconds.\")"
   ]
  },
  {
   "cell_type": "code",
   "execution_count": null,
   "metadata": {
    "colab": {
     "base_uri": "https://localhost:8080/",
     "height": 282
    },
    "id": "08q8pi-6GUKn",
    "outputId": "1e1b2044-19fd-4c66-a691-d5a4a5ba18a2"
   },
   "outputs": [
    {
     "data": {
      "image/png": "[encoded data removed]",
      "text/plain": [
       "<Figure size 432x288 with 1 Axes>"
      ]
     },
     "metadata": {
      "needs_background": "light"
     },
     "output_type": "display_data"
    }
   ],
   "source": [
    "# Plot the result\n",
    "plt.figure()\n",
    "plt.plot(window_grid, it_times, label=\"iterative\")\n",
    "plt.plot(window_grid, vec_times, label=\"vectorized\")\n",
    "plt.xlabel(\"window length\")\n",
    "plt.ylabel(\"compute time in s\")\n",
    "plt.legend()\n",
    "plt.show()"
   ]
  },
  {
   "cell_type": "code",
   "execution_count": null,
   "metadata": {
    "id": "a8iYj2-Fm_Zg"
   },
   "outputs": [],
   "source": [
    "# # Plot timed results against different observation set sizes\n",
    "\n",
    "# %%capture\n",
    "# key = PRNGKey(0)\n",
    "# window_size = 10\n",
    "# timestep_grid = jnp.arange(10, 500, 20)\n",
    "\n",
    "# it_times, vec_times = [], []\n",
    "# for timestep in timestep_grid:\n",
    "#     print(\"timestep \", timestep)\n",
    "#     data = choice(key, num_obs, shape=(timestep,))\n",
    "#     key, _ = split(key)\n",
    "#     it_time = %timeit -o get_fls_result_iterative(hmm, data, window_size)\n",
    "#     vec_time = %timeit -o get_fls_result_vectorized(hmm, data, window_size)\n",
    "#     it_times.append(1000*it_time.best)\n",
    "#     vec_times.append(1000*vec_time.best)\n",
    "\n",
    "# # Plot the result\n",
    "# plt.figure()\n",
    "# plt.plot(timestep_grid, it_times, label='iterative')\n",
    "# plt.plot(timestep_grid, vec_times, label='vectorized')\n",
    "# plt.xlabel('size of observation set')\n",
    "# plt.ylabel('best time in ms')\n",
    "# plt.legend();\n",
    "# plt.show()"
   ]
  }
 ],
 "metadata": {
  "colab": {
   "include_colab_link": true,
   "name": "fixed_lag_smoother.ipynb",
   "provenance": []
  },
  "kernelspec": {
   "display_name": "Python 3",
   "name": "python3"
  },
  "language_info": {
   "name": "python"
  }
 },
 "nbformat": 4,
 "nbformat_minor": 0
}