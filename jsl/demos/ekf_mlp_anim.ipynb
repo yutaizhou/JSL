{
 "cells": [
  {
   "cell_type": "markdown",
   "metadata": {
    "colab_type": "text",
    "id": "view-in-github"
   },
   "source": [
    "<a href=\"https://colab.research.google.com/github/probml/JSL/blob/main/jsl/demos/ekf_mlp_anim.ipynb\" target=\"_parent\"><img src=\"https://colab.research.google.com/assets/colab-badge.svg\" alt=\"Open In Colab\"/></a>"
   ]
  },
  {
   "cell_type": "code",
   "execution_count": 1,
   "metadata": {
    "colab": {
     "base_uri": "https://localhost:8080/"
    },
    "id": "9_EdDKB_lkZ8",
    "outputId": "cc11a3ec-c89a-43c3-a1b1-01e9a32b382c"
   },
   "outputs": [
    {
     "name": "stdout",
     "output_type": "stream",
     "text": [
      "Collecting git+https://github.com/google/flax.git\n",
      "  Cloning https://github.com/google/flax.git to /tmp/pip-req-build-cc_exfuj\n",
      "  Running command git clone -q https://github.com/google/flax.git /tmp/pip-req-build-cc_exfuj\n",
      "Requirement already satisfied: numpy>=1.12 in /usr/local/lib/python3.7/dist-packages (from flax==0.4.1) (1.21.5)\n",
      "Requirement already satisfied: jax>=0.3 in /usr/local/lib/python3.7/dist-packages (from flax==0.4.1) (0.3.4)\n",
      "Requirement already satisfied: matplotlib in /usr/local/lib/python3.7/dist-packages (from flax==0.4.1) (3.2.2)\n",
      "Requirement already satisfied: msgpack in /usr/local/lib/python3.7/dist-packages (from flax==0.4.1) (1.0.3)\n",
      "Collecting optax\n",
      "  Downloading optax-0.1.1-py3-none-any.whl (136 kB)\n",
      "\u001b[K     |████████████████████████████████| 136 kB 8.0 MB/s \n",
      "\u001b[?25hCollecting typing_extensions>=4.1.1\n",
      "  Downloading typing_extensions-4.1.1-py3-none-any.whl (26 kB)\n",
      "Requirement already satisfied: opt-einsum in /usr/local/lib/python3.7/dist-packages (from jax>=0.3->flax==0.4.1) (3.3.0)\n",
      "Requirement already satisfied: scipy>=1.2.1 in /usr/local/lib/python3.7/dist-packages (from jax>=0.3->flax==0.4.1) (1.4.1)\n",
      "Requirement already satisfied: absl-py in /usr/local/lib/python3.7/dist-packages (from jax>=0.3->flax==0.4.1) (1.0.0)\n",
      "Requirement already satisfied: six in /usr/local/lib/python3.7/dist-packages (from absl-py->jax>=0.3->flax==0.4.1) (1.15.0)\n",
      "Requirement already satisfied: pyparsing!=2.0.4,!=2.1.2,!=2.1.6,>=2.0.1 in /usr/local/lib/python3.7/dist-packages (from matplotlib->flax==0.4.1) (3.0.7)\n",
      "Requirement already satisfied: kiwisolver>=1.0.1 in /usr/local/lib/python3.7/dist-packages (from matplotlib->flax==0.4.1) (1.4.0)\n",
      "Requirement already satisfied: python-dateutil>=2.1 in /usr/local/lib/python3.7/dist-packages (from matplotlib->flax==0.4.1) (2.8.2)\n",
      "Requirement already satisfied: cycler>=0.10 in /usr/local/lib/python3.7/dist-packages (from matplotlib->flax==0.4.1) (0.11.0)\n",
      "Collecting chex>=0.0.4\n",
      "  Downloading chex-0.1.2-py3-none-any.whl (72 kB)\n",
      "\u001b[K     |████████████████████████████████| 72 kB 863 kB/s \n",
      "\u001b[?25hRequirement already satisfied: jaxlib>=0.1.37 in /usr/local/lib/python3.7/dist-packages (from optax->flax==0.4.1) (0.3.2+cuda11.cudnn805)\n",
      "Requirement already satisfied: toolz>=0.9.0 in /usr/local/lib/python3.7/dist-packages (from chex>=0.0.4->optax->flax==0.4.1) (0.11.2)\n",
      "Requirement already satisfied: dm-tree>=0.1.5 in /usr/local/lib/python3.7/dist-packages (from chex>=0.0.4->optax->flax==0.4.1) (0.1.6)\n",
      "Requirement already satisfied: flatbuffers<3.0,>=1.12 in /usr/local/lib/python3.7/dist-packages (from jaxlib>=0.1.37->optax->flax==0.4.1) (2.0)\n",
      "Building wheels for collected packages: flax\n",
      "  Building wheel for flax (setup.py) ... \u001b[?25l\u001b[?25hdone\n",
      "  Created wheel for flax: filename=flax-0.4.1-py3-none-any.whl size=185991 sha256=0e5e09ee2d7b69dc3908aa59be490dc6589bbed4134d7a085e217c5a1ebf2a58\n",
      "  Stored in directory: /tmp/pip-ephem-wheel-cache-moa6qi0z/wheels/3e/9e/df/f792f5b2c0d0ccf00f3c1286bc060dab7cb2a4af5134d1c5b4\n",
      "Successfully built flax\n",
      "Installing collected packages: typing-extensions, chex, optax, flax\n",
      "  Attempting uninstall: typing-extensions\n",
      "    Found existing installation: typing-extensions 3.10.0.2\n",
      "    Uninstalling typing-extensions-3.10.0.2:\n",
      "      Successfully uninstalled typing-extensions-3.10.0.2\n",
      "\u001b[31mERROR: pip's dependency resolver does not currently take into account all the packages that are installed. This behaviour is the source of the following dependency conflicts.\n",
      "tensorflow 2.8.0 requires tf-estimator-nightly==2.8.0.dev2021122109, which is not installed.\n",
      "arviz 0.11.4 requires typing-extensions<4,>=3.7.4.3, but you have typing-extensions 4.1.1 which is incompatible.\u001b[0m\n",
      "Successfully installed chex-0.1.2 flax-0.4.1 optax-0.1.1 typing-extensions-4.1.1\n",
      "Requirement already satisfied: tensorflow-probability in /usr/local/lib/python3.7/dist-packages (0.16.0)\n",
      "Requirement already satisfied: six>=1.10.0 in /usr/local/lib/python3.7/dist-packages (from tensorflow-probability) (1.15.0)\n",
      "Requirement already satisfied: dm-tree in /usr/local/lib/python3.7/dist-packages (from tensorflow-probability) (0.1.6)\n",
      "Requirement already satisfied: cloudpickle>=1.3 in /usr/local/lib/python3.7/dist-packages (from tensorflow-probability) (1.3.0)\n",
      "Requirement already satisfied: absl-py in /usr/local/lib/python3.7/dist-packages (from tensorflow-probability) (1.0.0)\n",
      "Requirement already satisfied: gast>=0.3.2 in /usr/local/lib/python3.7/dist-packages (from tensorflow-probability) (0.5.3)\n",
      "Requirement already satisfied: decorator in /usr/local/lib/python3.7/dist-packages (from tensorflow-probability) (4.4.2)\n",
      "Requirement already satisfied: numpy>=1.13.3 in /usr/local/lib/python3.7/dist-packages (from tensorflow-probability) (1.21.5)\n",
      "Collecting git+https://github.com/blackjax-devs/blackjax.git\n",
      "  Cloning https://github.com/blackjax-devs/blackjax.git to /tmp/pip-req-build-zsc5sytj\n",
      "  Running command git clone -q https://github.com/blackjax-devs/blackjax.git /tmp/pip-req-build-zsc5sytj\n",
      "Requirement already satisfied: fastprogress>=0.2.0 in /usr/local/lib/python3.7/dist-packages (from blackjax==0.4.0) (1.0.2)\n",
      "Building wheels for collected packages: blackjax\n",
      "  Building wheel for blackjax (setup.py) ... \u001b[?25l\u001b[?25hdone\n",
      "  Created wheel for blackjax: filename=blackjax-0.4.0-py3-none-any.whl size=77597 sha256=abf05da4b538a8221795c0eaa200c23a2c28073fd14161b115a52e6c330c6a22\n",
      "  Stored in directory: /tmp/pip-ephem-wheel-cache-1_hcd4vn/wheels/8f/53/91/7460390e5f6442104728ae1c475ad03edb990afe2c5924eee7\n",
      "Successfully built blackjax\n",
      "Installing collected packages: blackjax\n",
      "Successfully installed blackjax-0.4.0\n",
      "Collecting git+https://github.com/deepmind/distrax.git\n",
      "  Cloning https://github.com/deepmind/distrax.git to /tmp/pip-req-build-legzgi8b\n",
      "  Running command git clone -q https://github.com/deepmind/distrax.git /tmp/pip-req-build-legzgi8b\n",
      "Requirement already satisfied: absl-py>=0.9.0 in /usr/local/lib/python3.7/dist-packages (from distrax==0.1.2) (1.0.0)\n",
      "Requirement already satisfied: chex>=0.0.7 in /usr/local/lib/python3.7/dist-packages (from distrax==0.1.2) (0.1.2)\n",
      "Requirement already satisfied: jax>=0.1.55 in /usr/local/lib/python3.7/dist-packages (from distrax==0.1.2) (0.3.4)\n",
      "Requirement already satisfied: jaxlib>=0.1.67 in /usr/local/lib/python3.7/dist-packages (from distrax==0.1.2) (0.3.2+cuda11.cudnn805)\n",
      "Requirement already satisfied: numpy>=1.18.0 in /usr/local/lib/python3.7/dist-packages (from distrax==0.1.2) (1.21.5)\n",
      "Requirement already satisfied: tensorflow-probability>=0.15.0 in /usr/local/lib/python3.7/dist-packages (from distrax==0.1.2) (0.16.0)\n",
      "Requirement already satisfied: six in /usr/local/lib/python3.7/dist-packages (from absl-py>=0.9.0->distrax==0.1.2) (1.15.0)\n",
      "Requirement already satisfied: dm-tree>=0.1.5 in /usr/local/lib/python3.7/dist-packages (from chex>=0.0.7->distrax==0.1.2) (0.1.6)\n",
      "Requirement already satisfied: toolz>=0.9.0 in /usr/local/lib/python3.7/dist-packages (from chex>=0.0.7->distrax==0.1.2) (0.11.2)\n",
      "Requirement already satisfied: opt-einsum in /usr/local/lib/python3.7/dist-packages (from jax>=0.1.55->distrax==0.1.2) (3.3.0)\n",
      "Requirement already satisfied: scipy>=1.2.1 in /usr/local/lib/python3.7/dist-packages (from jax>=0.1.55->distrax==0.1.2) (1.4.1)\n",
      "Requirement already satisfied: typing-extensions in /usr/local/lib/python3.7/dist-packages (from jax>=0.1.55->distrax==0.1.2) (4.1.1)\n",
      "Requirement already satisfied: flatbuffers<3.0,>=1.12 in /usr/local/lib/python3.7/dist-packages (from jaxlib>=0.1.67->distrax==0.1.2) (2.0)\n",
      "Requirement already satisfied: decorator in /usr/local/lib/python3.7/dist-packages (from tensorflow-probability>=0.15.0->distrax==0.1.2) (4.4.2)\n",
      "Requirement already satisfied: cloudpickle>=1.3 in /usr/local/lib/python3.7/dist-packages (from tensorflow-probability>=0.15.0->distrax==0.1.2) (1.3.0)\n",
      "Requirement already satisfied: gast>=0.3.2 in /usr/local/lib/python3.7/dist-packages (from tensorflow-probability>=0.15.0->distrax==0.1.2) (0.5.3)\n",
      "Building wheels for collected packages: distrax\n",
      "  Building wheel for distrax (setup.py) ... \u001b[?25l\u001b[?25hdone\n",
      "  Created wheel for distrax: filename=distrax-0.1.2-py3-none-any.whl size=274554 sha256=1b2e60c0cb19b219daee7ced63d1cc8eed4812539f33849cd2c4a4746d9e40ad\n",
      "  Stored in directory: /tmp/pip-ephem-wheel-cache-csqy2hgf/wheels/34/f4/34/7d0bc13db0a98b0f2da8d8254a04d4d2ff1076bfe495cfb34e\n",
      "Successfully built distrax\n",
      "Installing collected packages: distrax\n",
      "Successfully installed distrax-0.1.2\n"
     ]
    }
   ],
   "source": [
    "!pip install --upgrade git+https://github.com/google/flax.git\n",
    "!pip install --upgrade tensorflow-probability\n",
    "!pip install git+https://github.com/blackjax-devs/blackjax.git\n",
    "!pip install git+https://github.com/deepmind/distrax.git"
   ]
  },
  {
   "cell_type": "code",
   "execution_count": 2,
   "metadata": {
    "colab": {
     "base_uri": "https://localhost:8080/"
    },
    "id": "P6bJtRVylr1j",
    "outputId": "ee739c40-54ea-4b06-b0c2-ef93a7efb722"
   },
   "outputs": [
    {
     "name": "stdout",
     "output_type": "stream",
     "text": [
      "Collecting git+https://github.com/probml/jsl\n",
      "  Cloning https://github.com/probml/jsl to /tmp/pip-req-build-783786km\n",
      "  Running command git clone -q https://github.com/probml/jsl /tmp/pip-req-build-783786km\n",
      "Requirement already satisfied: chex in /usr/local/lib/python3.7/dist-packages (from jsl==0.0.0) (0.1.2)\n",
      "Collecting dataclasses\n",
      "  Downloading dataclasses-0.6-py3-none-any.whl (14 kB)\n",
      "Requirement already satisfied: jaxlib in /usr/local/lib/python3.7/dist-packages (from jsl==0.0.0) (0.3.2+cuda11.cudnn805)\n",
      "Requirement already satisfied: jax in /usr/local/lib/python3.7/dist-packages (from jsl==0.0.0) (0.3.4)\n",
      "Requirement already satisfied: matplotlib in /usr/local/lib/python3.7/dist-packages (from jsl==0.0.0) (3.2.2)\n",
      "Requirement already satisfied: tensorflow_probability in /usr/local/lib/python3.7/dist-packages (from jsl==0.0.0) (0.16.0)\n",
      "Requirement already satisfied: numpy>=1.18.0 in /usr/local/lib/python3.7/dist-packages (from chex->jsl==0.0.0) (1.21.5)\n",
      "Requirement already satisfied: dm-tree>=0.1.5 in /usr/local/lib/python3.7/dist-packages (from chex->jsl==0.0.0) (0.1.6)\n",
      "Requirement already satisfied: toolz>=0.9.0 in /usr/local/lib/python3.7/dist-packages (from chex->jsl==0.0.0) (0.11.2)\n",
      "Requirement already satisfied: absl-py>=0.9.0 in /usr/local/lib/python3.7/dist-packages (from chex->jsl==0.0.0) (1.0.0)\n",
      "Requirement already satisfied: six in /usr/local/lib/python3.7/dist-packages (from absl-py>=0.9.0->chex->jsl==0.0.0) (1.15.0)\n",
      "Requirement already satisfied: scipy>=1.2.1 in /usr/local/lib/python3.7/dist-packages (from jax->jsl==0.0.0) (1.4.1)\n",
      "Requirement already satisfied: typing-extensions in /usr/local/lib/python3.7/dist-packages (from jax->jsl==0.0.0) (4.1.1)\n",
      "Requirement already satisfied: opt-einsum in /usr/local/lib/python3.7/dist-packages (from jax->jsl==0.0.0) (3.3.0)\n",
      "Requirement already satisfied: flatbuffers<3.0,>=1.12 in /usr/local/lib/python3.7/dist-packages (from jaxlib->jsl==0.0.0) (2.0)\n",
      "Requirement already satisfied: cycler>=0.10 in /usr/local/lib/python3.7/dist-packages (from matplotlib->jsl==0.0.0) (0.11.0)\n",
      "Requirement already satisfied: python-dateutil>=2.1 in /usr/local/lib/python3.7/dist-packages (from matplotlib->jsl==0.0.0) (2.8.2)\n",
      "Requirement already satisfied: kiwisolver>=1.0.1 in /usr/local/lib/python3.7/dist-packages (from matplotlib->jsl==0.0.0) (1.4.0)\n",
      "Requirement already satisfied: pyparsing!=2.0.4,!=2.1.2,!=2.1.6,>=2.0.1 in /usr/local/lib/python3.7/dist-packages (from matplotlib->jsl==0.0.0) (3.0.7)\n",
      "Requirement already satisfied: gast>=0.3.2 in /usr/local/lib/python3.7/dist-packages (from tensorflow_probability->jsl==0.0.0) (0.5.3)\n",
      "Requirement already satisfied: decorator in /usr/local/lib/python3.7/dist-packages (from tensorflow_probability->jsl==0.0.0) (4.4.2)\n",
      "Requirement already satisfied: cloudpickle>=1.3 in /usr/local/lib/python3.7/dist-packages (from tensorflow_probability->jsl==0.0.0) (1.3.0)\n",
      "Building wheels for collected packages: jsl\n",
      "  Building wheel for jsl (setup.py) ... \u001b[?25l\u001b[?25hdone\n",
      "  Created wheel for jsl: filename=jsl-0.0.0-py3-none-any.whl size=77852 sha256=230ccb9c1fa340890bc1ba3cff6de1b7e7b8b56ab7f5799304862a0b69e85926\n",
      "  Stored in directory: /tmp/pip-ephem-wheel-cache-z6o1bzx9/wheels/a5/37/42/df04e6049cdb2f348d9fc610c7e3a165b28475340c684858c1\n",
      "Successfully built jsl\n",
      "Installing collected packages: dataclasses, jsl\n",
      "Successfully installed dataclasses-0.6 jsl-0.0.0\n"
     ]
    }
   ],
   "source": [
    "!pip install git+https://github.com/probml/jsl"
   ]
  },
  {
   "cell_type": "code",
   "execution_count": 3,
   "metadata": {
    "id": "3AuWHRr6l3lL"
   },
   "outputs": [],
   "source": [
    "from functools import partial\n",
    "\n",
    "import jax\n",
    "import jax.numpy as jnp\n",
    "import matplotlib.animation as animation\n",
    "import matplotlib.pyplot as plt\n",
    "from jax.random import PRNGKey, multivariate_normal, normal, split\n",
    "\n",
    "from jsl.demos import ekf_vs_ukf_mlp as demo\n",
    "from jsl.nlds.base import NLDS\n",
    "from jsl.nlds.extended_kalman_filter import filter"
   ]
  },
  {
   "cell_type": "code",
   "execution_count": 4,
   "metadata": {
    "colab": {
     "base_uri": "https://localhost:8080/"
    },
    "id": "KUwyz1Y-l34p",
    "outputId": "b62c847e-ac78-43e8-9c14-41672505c47a"
   },
   "outputs": [
    {
     "name": "stdout",
     "output_type": "stream",
     "text": [
      "./samples_hist_ekf.mp4\n"
     ]
    }
   ],
   "source": [
    "import os\n",
    "\n",
    "plt.rcParams[\"axes.spines.right\"] = False\n",
    "plt.rcParams[\"axes.spines.top\"] = False\n",
    "\n",
    "path = os.environ.get(\"FIGDIR\")\n",
    "path = \".\" if path is None else path\n",
    "filepath = os.path.join(path, \"samples_hist_ekf.mp4\")\n",
    "print(filepath)\n",
    "\n",
    "\n",
    "def f(x):\n",
    "    return x - 10 * jnp.cos(x) * jnp.sin(x) + x**3\n",
    "\n",
    "\n",
    "fx = f\n",
    "\n",
    "\n",
    "def fz(W):\n",
    "    return W"
   ]
  },
  {
   "cell_type": "code",
   "execution_count": 5,
   "metadata": {
    "colab": {
     "base_uri": "https://localhost:8080/",
     "height": 269
    },
    "id": "Y9RAYpGcnSG4",
    "outputId": "3531f86c-a776-45d9-c965-68196a50eae1"
   },
   "outputs": [
    {
     "data": {
      "image/png": "[encoded data removed]",
      "text/plain": [
       "<Figure size 432x288 with 1 Axes>"
      ]
     },
     "metadata": {
      "needs_background": "light"
     },
     "output_type": "display_data"
    }
   ],
   "source": [
    "# *** MLP configuration ***\n",
    "n_hidden = 6\n",
    "n_in, n_out = 1, 1\n",
    "n_params = (n_in + 1) * n_hidden + (n_hidden + 1) * n_out\n",
    "fwd_mlp = partial(demo.mlp, n_hidden=n_hidden)\n",
    "# vectorised for multiple observations\n",
    "fwd_mlp_obs = jax.vmap(fwd_mlp, in_axes=[None, 0])\n",
    "# vectorised for multiple weights\n",
    "fwd_mlp_weights = jax.vmap(fwd_mlp, in_axes=[1, None])\n",
    "# vectorised for multiple observations and weights\n",
    "fwd_mlp_obs_weights = jax.vmap(fwd_mlp_obs, in_axes=[0, None])\n",
    "\n",
    "# *** Generating training and test data ***\n",
    "n_obs = 200\n",
    "key = PRNGKey(314)\n",
    "key_sample_obs, key_weights = split(key, 2)\n",
    "xmin, xmax = -3, 3\n",
    "sigma_y = 3.0\n",
    "x, y = demo.sample_observations(\n",
    "    key_sample_obs, fx, n_obs, xmin, xmax, x_noise=0, y_noise=sigma_y\n",
    ")\n",
    "xtest = jnp.linspace(x.min(), x.max(), n_obs)\n",
    "\n",
    "# *** MLP Training with EKF ***\n",
    "W0 = normal(key_weights, (n_params,)) * 1  # initial random guess\n",
    "Q = jnp.eye(n_params) * 1e-4  # parameters do not change\n",
    "R = jnp.eye(1) * sigma_y**2  # observation noise is fixed\n",
    "Vinit = jnp.eye(n_params) * 100  # vague prior\n",
    "\n",
    "ekf = NLDS(fz, fwd_mlp, Q, R)\n",
    "_, ekf_hist = filter(\n",
    "    ekf, W0, y[:, None], x[:, None], Vinit, return_params=[\"mean\", \"cov\"]\n",
    ")\n",
    "ekf_mu_hist, ekf_Sigma_hist = ekf_hist[\"mean\"], ekf_hist[\"cov\"]\n",
    "\n",
    "xtest = jnp.linspace(x.min(), x.max(), 200)\n",
    "nframes = n_obs\n",
    "fig, ax = plt.subplots()\n",
    "\n",
    "\n",
    "def func(i, clear=True):\n",
    "    if clear:\n",
    "        plt.cla()\n",
    "    W, SW = ekf_mu_hist[i], ekf_Sigma_hist[i]\n",
    "    W_samples = multivariate_normal(key, W, SW, (100,))\n",
    "    sample_yhat = fwd_mlp_obs_weights(W_samples, xtest[:, None])\n",
    "    for sample in sample_yhat:\n",
    "        ax.plot(xtest, sample, c=\"tab:gray\", alpha=0.07)\n",
    "    ax.plot(xtest, sample_yhat.mean(axis=0))\n",
    "    ax.scatter(x[:i], y[:i], s=14, c=\"none\", edgecolor=\"black\", label=\"observations\")\n",
    "    ax.scatter(x[i], y[i], s=30, c=\"tab:red\")\n",
    "    ax.set_title(f\"EKF+MLP ({i + 1:03}/{n_obs})\")\n",
    "    ax.set_xlim(x.min(), x.max())\n",
    "    ax.set_ylim(y.min(), y.max())\n",
    "\n",
    "    return ax"
   ]
  },
  {
   "cell_type": "code",
   "execution_count": 7,
   "metadata": {
    "colab": {
     "base_uri": "https://localhost:8080/",
     "height": 269
    },
    "id": "Idf9-RKymLvp",
    "outputId": "ac86ef19-daa9-4532-e836-8eab11ebfced"
   },
   "outputs": [
    {
     "data": {
      "image/png": "[encoded data removed]",
      "text/plain": [
       "<Figure size 432x288 with 1 Axes>"
      ]
     },
     "metadata": {
      "needs_background": "light"
     },
     "output_type": "display_data"
    }
   ],
   "source": [
    "ani = animation.FuncAnimation(fig, func, frames=10)  # n_obs)\n",
    "ani.save(filepath, dpi=200, bitrate=-1, fps=10)"
   ]
  }
 ],
 "metadata": {
  "accelerator": "GPU",
  "colab": {
   "authorship_tag": "ABX9TyOJJq8ms+S9QARn92tEXvgy",
   "collapsed_sections": [],
   "include_colab_link": true,
   "name": "ekf-mlp-anim.ipynb",
   "provenance": []
  },
  "kernelspec": {
   "display_name": "Python 3",
   "name": "python3"
  },
  "language_info": {
   "name": "python"
  }
 },
 "nbformat": 4,
 "nbformat_minor": 0
}